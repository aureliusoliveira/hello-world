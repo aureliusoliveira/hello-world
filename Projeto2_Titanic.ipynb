{
 "cells": [
  {
   "cell_type": "markdown",
   "metadata": {},
   "source": [
    "# Uma breve análise sobre o naufrágio do Titanic"
   ]
  },
  {
   "cell_type": "markdown",
   "metadata": {},
   "source": [
    "## 1. Introdução"
   ]
  },
  {
   "cell_type": "markdown",
   "metadata": {},
   "source": [
    "O naufrágio do RMS Titanic ocorreu entre a noite de 14 de abril até à manhã de 15 de abril de 1912 no Atlântico Norte, quatro dias após o início da viagem inaugural do navio que partiu de Southampton, no Reino Unido, com destino à cidade de Nova Iorque. O maior navio de passageiros em serviço à época, o Titanic tinha estimadas 2.224 pessoas a bordo quando atingiu um iceberg por volta de 23:40 (horário no navio) no domingo, 14 de abril de 1912. O afundamento aconteceu duas horas e quarenta minutos depois, às 02:20 (05:18 GMT) na segunda-feira, 15 de abril, resultando na morte de mais de 1.500 pessoas, transformando-o em um dos desastres marítimos mais mortais. [(Fonte: Wikipedia)](https://pt.wikipedia.org/wiki/Naufr%C3%A1gio_do_RMS_Titanic)"
   ]
  },
  {
   "cell_type": "markdown",
   "metadata": {},
   "source": [
    "## 2. Objetivo\n",
    "Traçar um perfil das vítimas utilizando [dados do naufrágio](https://www.kaggle.com/c/titanic/data) fornecidos pela Kaggle na competição: [\"Titanic: Machine Learning from Disaster\".](https://www.kaggle.com/c/titanic) \n",
    "\n",
    "Este perfil consistirá num quantitativo das seguintes variáveis:\n",
    "\n",
    "* Número de sobreviventes\n",
    "* Sexo\n",
    "* Classe socioeconômica\n",
    "* Faixa etária\n",
    "\n",
    "A partir delas, avaliaremos as relações das três últimas com a primeira para determinar:\n",
    "\n",
    "* Qual o perfil de passageiros com maior ou menor índice de sobreviventes?\n",
    "* Existe algum outro parâmetro que possa ter influenciado na sobrevivência das vítimas?\n",
    "\n"
   ]
  },
  {
   "cell_type": "markdown",
   "metadata": {},
   "source": [
    "## 3. Descrição dos Dados"
   ]
  },
  {
   "cell_type": "markdown",
   "metadata": {},
   "source": [
    "| **Variable** | **Definition**                             | **Key**                                        |\n",
    "|--------------|--------------------------------------------|------------------------------------------------|\n",
    "| survival     | Survival                                   | 0 = No, 1 = Yes                                |\n",
    "| pclass       | Ticket class                               | 1 = 1st, 2 = 2nd, 3 = 3rd                      |\n",
    "| sex          | Sex                                        |                                                |\n",
    "| Age          | Age in years                               |                                                |\n",
    "| sibsp        | # of siblings / spouses aboard the Titanic |                                                |\n",
    "| parch        | # of parents / children aboard the Titanic |                                                |\n",
    "| ticket       | Ticket number                              |                                                |\n",
    "| fare         | Passenger fare                             |                                                |\n",
    "| cabin        | Cabin number                               |                                                |\n",
    "| embarked     | Port of Embarkation                        | C = Cherbourg, Q = Queenstown, S = Southampton |"
   ]
  },
  {
   "cell_type": "markdown",
   "metadata": {},
   "source": [
    "Para maiores informações, clique [aqui](https://www.kaggle.com/c/titanic/data)."
   ]
  },
  {
   "cell_type": "markdown",
   "metadata": {},
   "source": [
    "## 4. Importando Bibliotecas"
   ]
  },
  {
   "cell_type": "code",
   "execution_count": 1,
   "metadata": {},
   "outputs": [],
   "source": [
    "import pandas as pd\n",
    "import numpy as np\n",
    "import matplotlib.pyplot as plt\n",
    "import seaborn as sns\n",
    "sns.set_style('whitegrid')\n",
    "%matplotlib inline"
   ]
  },
  {
   "cell_type": "markdown",
   "metadata": {},
   "source": [
    "## 5. Preparação dos Dados"
   ]
  },
  {
   "cell_type": "markdown",
   "metadata": {},
   "source": [
    "### 5.1 Acesso"
   ]
  },
  {
   "cell_type": "code",
   "execution_count": 2,
   "metadata": {},
   "outputs": [
    {
     "data": {
      "text/html": [
       "<div>\n",
       "<style scoped>\n",
       "    .dataframe tbody tr th:only-of-type {\n",
       "        vertical-align: middle;\n",
       "    }\n",
       "\n",
       "    .dataframe tbody tr th {\n",
       "        vertical-align: top;\n",
       "    }\n",
       "\n",
       "    .dataframe thead th {\n",
       "        text-align: right;\n",
       "    }\n",
       "</style>\n",
       "<table border=\"1\" class=\"dataframe\">\n",
       "  <thead>\n",
       "    <tr style=\"text-align: right;\">\n",
       "      <th></th>\n",
       "      <th>PassengerId</th>\n",
       "      <th>Survived</th>\n",
       "      <th>Pclass</th>\n",
       "      <th>Name</th>\n",
       "      <th>Sex</th>\n",
       "      <th>Age</th>\n",
       "      <th>SibSp</th>\n",
       "      <th>Parch</th>\n",
       "      <th>Ticket</th>\n",
       "      <th>Fare</th>\n",
       "      <th>Cabin</th>\n",
       "      <th>Embarked</th>\n",
       "    </tr>\n",
       "  </thead>\n",
       "  <tbody>\n",
       "    <tr>\n",
       "      <th>0</th>\n",
       "      <td>1</td>\n",
       "      <td>0</td>\n",
       "      <td>3</td>\n",
       "      <td>Braund, Mr. Owen Harris</td>\n",
       "      <td>male</td>\n",
       "      <td>22.0</td>\n",
       "      <td>1</td>\n",
       "      <td>0</td>\n",
       "      <td>A/5 21171</td>\n",
       "      <td>7.2500</td>\n",
       "      <td>NaN</td>\n",
       "      <td>S</td>\n",
       "    </tr>\n",
       "    <tr>\n",
       "      <th>1</th>\n",
       "      <td>2</td>\n",
       "      <td>1</td>\n",
       "      <td>1</td>\n",
       "      <td>Cumings, Mrs. John Bradley (Florence Briggs Th...</td>\n",
       "      <td>female</td>\n",
       "      <td>38.0</td>\n",
       "      <td>1</td>\n",
       "      <td>0</td>\n",
       "      <td>PC 17599</td>\n",
       "      <td>71.2833</td>\n",
       "      <td>C85</td>\n",
       "      <td>C</td>\n",
       "    </tr>\n",
       "    <tr>\n",
       "      <th>2</th>\n",
       "      <td>3</td>\n",
       "      <td>1</td>\n",
       "      <td>3</td>\n",
       "      <td>Heikkinen, Miss. Laina</td>\n",
       "      <td>female</td>\n",
       "      <td>26.0</td>\n",
       "      <td>0</td>\n",
       "      <td>0</td>\n",
       "      <td>STON/O2. 3101282</td>\n",
       "      <td>7.9250</td>\n",
       "      <td>NaN</td>\n",
       "      <td>S</td>\n",
       "    </tr>\n",
       "  </tbody>\n",
       "</table>\n",
       "</div>"
      ],
      "text/plain": [
       "   PassengerId  Survived  Pclass  \\\n",
       "0            1         0       3   \n",
       "1            2         1       1   \n",
       "2            3         1       3   \n",
       "\n",
       "                                                Name     Sex   Age  SibSp  \\\n",
       "0                            Braund, Mr. Owen Harris    male  22.0      1   \n",
       "1  Cumings, Mrs. John Bradley (Florence Briggs Th...  female  38.0      1   \n",
       "2                             Heikkinen, Miss. Laina  female  26.0      0   \n",
       "\n",
       "   Parch            Ticket     Fare Cabin Embarked  \n",
       "0      0         A/5 21171   7.2500   NaN        S  \n",
       "1      0          PC 17599  71.2833   C85        C  \n",
       "2      0  STON/O2. 3101282   7.9250   NaN        S  "
      ]
     },
     "execution_count": 2,
     "metadata": {},
     "output_type": "execute_result"
    }
   ],
   "source": [
    "df=pd.read_csv('titanic-data-6.csv') # Lendo base de dados\n",
    "df.head(3)"
   ]
  },
  {
   "cell_type": "markdown",
   "metadata": {},
   "source": [
    "### 5.2 Limpeza"
   ]
  },
  {
   "cell_type": "markdown",
   "metadata": {},
   "source": [
    "Numa primeira inspeção, vemos que possuimos dados de 891 passageiros, entretanto as colunas 'Age' (Idade) apresentam 177 valores nulos (_missing data_); 'Cabin' (Cabine), 687 e; 'Embaked' (Local de Embarque), 2. Investigaremos cada caso para saber o que podemos fazer."
   ]
  },
  {
   "cell_type": "code",
   "execution_count": 3,
   "metadata": {},
   "outputs": [
    {
     "data": {
      "text/plain": [
       "PassengerId      0\n",
       "Survived         0\n",
       "Pclass           0\n",
       "Name             0\n",
       "Sex              0\n",
       "Age            177\n",
       "SibSp            0\n",
       "Parch            0\n",
       "Ticket           0\n",
       "Fare             0\n",
       "Cabin          687\n",
       "Embarked         2\n",
       "dtype: int64"
      ]
     },
     "execution_count": 3,
     "metadata": {},
     "output_type": "execute_result"
    }
   ],
   "source": [
    "df.isna().sum() #Checando missing datas"
   ]
  },
  {
   "cell_type": "markdown",
   "metadata": {},
   "source": [
    "#### 5.2.1 Idade"
   ]
  },
  {
   "cell_type": "markdown",
   "metadata": {},
   "source": [
    "O parâmentro idade, desconsiderando-se _missing datas_, segue a distribuição a seguir. "
   ]
  },
  {
   "cell_type": "code",
   "execution_count": 4,
   "metadata": {},
   "outputs": [
    {
     "data": {
      "image/png": "[encoded data removed]",
      "text/plain": [
       "<Figure size 432x288 with 1 Axes>"
      ]
     },
     "metadata": {},
     "output_type": "display_data"
    }
   ],
   "source": [
    "plt.hist(df['Age'].dropna(), alpha=.75);\n",
    "plt.title('Histograma de Idades')\n",
    "plt.xlabel('Idades')\n",
    "plt.ylabel('Frequência')\n",
    "plt.grid(True);"
   ]
  },
  {
   "cell_type": "markdown",
   "metadata": {},
   "source": [
    "Se adotássemos o método convencional de simplesmente imputar o valor da média nos _missing datas_, isso alteraria consideravelmente a distribuição original. "
   ]
  },
  {
   "cell_type": "code",
   "execution_count": 5,
   "metadata": {},
   "outputs": [],
   "source": [
    "df_orig_age = df['Age'].dropna() # Copiando dados de idade da distribuição original\n",
    "mean_age = df['Age'].mean()\n",
    "df_mean_age = df['Age'].fillna(mean_age) # Dados para distribuição com valor de média de idades imputado. Edição 1."
   ]
  },
  {
   "cell_type": "code",
   "execution_count": 6,
   "metadata": {},
   "outputs": [
    {
     "data": {
      "image/png": "[encoded data removed]",
      "text/plain": [
       "<Figure size 504x360 with 1 Axes>"
      ]
     },
     "metadata": {},
     "output_type": "display_data"
    }
   ],
   "source": [
    "# Comparação entre as distribuições de idade Original e Edição 1\n",
    "fig, ax = plt.subplots(figsize=(7,5))\n",
    "plt.hist(df_orig_age, alpha=.95, color=\"pink\", label=\"Original\")\n",
    "plt.hist(df_mean_age, alpha=.35, label = \"Edição 1\");\n",
    "plt.title('Comparação entre as distribuições de idades', fontsize=15)\n",
    "plt.xlabel('Idades')\n",
    "plt.ylabel('Frequência')\n",
    "plt.legend()\n",
    "plt.grid(True);"
   ]
  },
  {
   "cell_type": "markdown",
   "metadata": {},
   "source": [
    "Investigando melhor os dados de idade, traçando distribuições agrupadas pelas classes e sexo, vemos que os passageiros mais velhos costumam ser mais ricos. Além disso, em geral as mulheres são mais novas que os homens. \n",
    "Imputaremos valores em nossa distribuição original de idades os valores das medianas das distribuições agrupadas mencionadas anteriormente. \n",
    "Desta forma, por exemplo, uma mulher da primeira classe, cujo o valor de idade não esteja disponível, será atribuído a este a mediana das idades de seu grupo, que no caso é 35 anos."
   ]
  },
  {
   "cell_type": "code",
   "execution_count": 7,
   "metadata": {},
   "outputs": [
    {
     "data": {
      "image/png": "[encoded data removed]",
      "text/plain": [
       "<Figure size 720x504 with 1 Axes>"
      ]
     },
     "metadata": {},
     "output_type": "display_data"
    }
   ],
   "source": [
    "fig, ax = plt.subplots(figsize=(10,7))\n",
    "testPlot = sns.boxplot(x='Pclass', y='Age', hue='Sex', data=df)\n",
    "m1 = df.groupby(['Pclass', 'Sex'])['Age'].median().values\n",
    "mL1 = [str(np.round(s, 0)) for s in m1]\n",
    "\n",
    "ind = 0\n",
    "for tick in range(len(testPlot.get_xticklabels())):\n",
    "    testPlot.text(tick-.2, m1[ind+1]+1, mL1[ind+1],  horizontalalignment='center',  color='w', weight='bold')\n",
    "    testPlot.text(tick+.2, m1[ind]+1, mL1[ind], horizontalalignment='center', color='w', weight='bold')\n",
    "    ind += 2    \n",
    "\n",
    "plt.title('Distribuições de idades agrupadas por Classe e Sexo', fontsize=15)    \n",
    "plt.show()"
   ]
  },
  {
   "cell_type": "markdown",
   "metadata": {},
   "source": [
    "Substituiremos os _missing datas_ de idade segundo estas informações."
   ]
  },
  {
   "cell_type": "code",
   "execution_count": 8,
   "metadata": {},
   "outputs": [],
   "source": [
    "def impute_age(cols):\n",
    "    \"\"\"Substitui valores nulos em uma coluna (cols), de acordo com dois parâmetros condicionais (Pclasse e Sex), pelas medianas\n",
    "    agrupadas destes parâmetros.\n",
    "    \"\"\"\n",
    "    Age = cols[0]\n",
    "    Pclass = cols[1]\n",
    "    Sex = cols[2]\n",
    "    \n",
    "    if pd.isnull(Age):\n",
    "\n",
    "        if Pclass == 1:\n",
    "            if Sex == 'male':\n",
    "                return 40\n",
    "            else:\n",
    "                return 35\n",
    "\n",
    "        elif Pclass == 2:\n",
    "            if Sex == 'male':\n",
    "                return 30\n",
    "            else:\n",
    "                return 28\n",
    "\n",
    "        else:\n",
    "            if Sex == 'male':\n",
    "                return 25\n",
    "            else:\n",
    "                return 22\n",
    "    else:\n",
    "        return Age"
   ]
  },
  {
   "cell_type": "code",
   "execution_count": 9,
   "metadata": {},
   "outputs": [],
   "source": [
    "df['Age'] =df[['Age','Pclass','Sex']].apply(impute_age,axis=1)"
   ]
  },
  {
   "cell_type": "code",
   "execution_count": 10,
   "metadata": {},
   "outputs": [
    {
     "data": {
      "image/png": "[encoded data removed]",
      "text/plain": [
       "<Figure size 504x360 with 1 Axes>"
      ]
     },
     "metadata": {},
     "output_type": "display_data"
    }
   ],
   "source": [
    "# Comparação entre as distribuições de idade Original e Edição 2\n",
    "fig, ax = plt.subplots(figsize=(7,5))\n",
    "plt.hist(df_orig_age, alpha=.75, color='pink', label='Original')\n",
    "plt.hist(df['Age'], alpha=.5, label='Edição 2')\n",
    "plt.title('Comparação entre as distribuições de idades', fontsize=15)\n",
    "plt.xlabel('Idades')\n",
    "plt.ylabel('Frequência')\n",
    "plt.legend()\n",
    "plt.grid(True);"
   ]
  },
  {
   "cell_type": "markdown",
   "metadata": {},
   "source": [
    "Para análise do parâmetro idade, dividiremos a amostra em __faixas etárias__, da seguinte maneira:\n",
    "\n",
    "* __Crianças e Jovens__: 0 a 20 anos;\n",
    "* __Adultos Jovens__: 20 a 40 anos;\n",
    "* __Adultos__: 40 a 60 anos e;\n",
    "* __Idosos__: Acima de 60 anos.\n",
    "\n"
   ]
  },
  {
   "cell_type": "code",
   "execution_count": 11,
   "metadata": {},
   "outputs": [],
   "source": [
    "bin_edges = [0.00, 20.00, 40.00, 60.00, 80.00] # Definindo faixas etárias"
   ]
  },
  {
   "cell_type": "code",
   "execution_count": 12,
   "metadata": {},
   "outputs": [],
   "source": [
    "bin_names = ['Crianças e Jovens','Adultos Jovens','Adultos','Idosos'] # Nomeando as faixas etárias"
   ]
  },
  {
   "cell_type": "code",
   "execution_count": 13,
   "metadata": {},
   "outputs": [
    {
     "data": {
      "text/html": [
       "<div>\n",
       "<style scoped>\n",
       "    .dataframe tbody tr th:only-of-type {\n",
       "        vertical-align: middle;\n",
       "    }\n",
       "\n",
       "    .dataframe tbody tr th {\n",
       "        vertical-align: top;\n",
       "    }\n",
       "\n",
       "    .dataframe thead th {\n",
       "        text-align: right;\n",
       "    }\n",
       "</style>\n",
       "<table border=\"1\" class=\"dataframe\">\n",
       "  <thead>\n",
       "    <tr style=\"text-align: right;\">\n",
       "      <th></th>\n",
       "      <th>PassengerId</th>\n",
       "      <th>Survived</th>\n",
       "      <th>Pclass</th>\n",
       "      <th>Name</th>\n",
       "      <th>Sex</th>\n",
       "      <th>Age</th>\n",
       "      <th>SibSp</th>\n",
       "      <th>Parch</th>\n",
       "      <th>Ticket</th>\n",
       "      <th>Fare</th>\n",
       "      <th>Cabin</th>\n",
       "      <th>Embarked</th>\n",
       "      <th>Age_group</th>\n",
       "    </tr>\n",
       "  </thead>\n",
       "  <tbody>\n",
       "    <tr>\n",
       "      <th>0</th>\n",
       "      <td>1</td>\n",
       "      <td>0</td>\n",
       "      <td>3</td>\n",
       "      <td>Braund, Mr. Owen Harris</td>\n",
       "      <td>male</td>\n",
       "      <td>22.0</td>\n",
       "      <td>1</td>\n",
       "      <td>0</td>\n",
       "      <td>A/5 21171</td>\n",
       "      <td>7.2500</td>\n",
       "      <td>NaN</td>\n",
       "      <td>S</td>\n",
       "      <td>Adultos Jovens</td>\n",
       "    </tr>\n",
       "    <tr>\n",
       "      <th>1</th>\n",
       "      <td>2</td>\n",
       "      <td>1</td>\n",
       "      <td>1</td>\n",
       "      <td>Cumings, Mrs. John Bradley (Florence Briggs Th...</td>\n",
       "      <td>female</td>\n",
       "      <td>38.0</td>\n",
       "      <td>1</td>\n",
       "      <td>0</td>\n",
       "      <td>PC 17599</td>\n",
       "      <td>71.2833</td>\n",
       "      <td>C85</td>\n",
       "      <td>C</td>\n",
       "      <td>Adultos Jovens</td>\n",
       "    </tr>\n",
       "    <tr>\n",
       "      <th>2</th>\n",
       "      <td>3</td>\n",
       "      <td>1</td>\n",
       "      <td>3</td>\n",
       "      <td>Heikkinen, Miss. Laina</td>\n",
       "      <td>female</td>\n",
       "      <td>26.0</td>\n",
       "      <td>0</td>\n",
       "      <td>0</td>\n",
       "      <td>STON/O2. 3101282</td>\n",
       "      <td>7.9250</td>\n",
       "      <td>NaN</td>\n",
       "      <td>S</td>\n",
       "      <td>Adultos Jovens</td>\n",
       "    </tr>\n",
       "  </tbody>\n",
       "</table>\n",
       "</div>"
      ],
      "text/plain": [
       "   PassengerId  Survived  Pclass  \\\n",
       "0            1         0       3   \n",
       "1            2         1       1   \n",
       "2            3         1       3   \n",
       "\n",
       "                                                Name     Sex   Age  SibSp  \\\n",
       "0                            Braund, Mr. Owen Harris    male  22.0      1   \n",
       "1  Cumings, Mrs. John Bradley (Florence Briggs Th...  female  38.0      1   \n",
       "2                             Heikkinen, Miss. Laina  female  26.0      0   \n",
       "\n",
       "   Parch            Ticket     Fare Cabin Embarked       Age_group  \n",
       "0      0         A/5 21171   7.2500   NaN        S  Adultos Jovens  \n",
       "1      0          PC 17599  71.2833   C85        C  Adultos Jovens  \n",
       "2      0  STON/O2. 3101282   7.9250   NaN        S  Adultos Jovens  "
      ]
     },
     "execution_count": 13,
     "metadata": {},
     "output_type": "execute_result"
    }
   ],
   "source": [
    "df['Age_group'] = pd.cut(df['Age'], bin_edges, labels=bin_names)\n",
    "df.head(3)"
   ]
  },
  {
   "cell_type": "markdown",
   "metadata": {},
   "source": [
    "#### 5.2.2 Parentesco"
   ]
  },
  {
   "cell_type": "markdown",
   "metadata": {},
   "source": [
    "\n",
    "Para efeitos de simplificação, vamos fundir as colunas \"SibSp\" e \"Parch\" para obter uma única coluna (\"Family\") informando se o passageiro viajava com __pelo menos um familiar (1) ou não (0)__."
   ]
  },
  {
   "cell_type": "code",
   "execution_count": 14,
   "metadata": {},
   "outputs": [
    {
     "data": {
      "text/html": [
       "<div>\n",
       "<style scoped>\n",
       "    .dataframe tbody tr th:only-of-type {\n",
       "        vertical-align: middle;\n",
       "    }\n",
       "\n",
       "    .dataframe tbody tr th {\n",
       "        vertical-align: top;\n",
       "    }\n",
       "\n",
       "    .dataframe thead th {\n",
       "        text-align: right;\n",
       "    }\n",
       "</style>\n",
       "<table border=\"1\" class=\"dataframe\">\n",
       "  <thead>\n",
       "    <tr style=\"text-align: right;\">\n",
       "      <th></th>\n",
       "      <th>PassengerId</th>\n",
       "      <th>Survived</th>\n",
       "      <th>Pclass</th>\n",
       "      <th>Name</th>\n",
       "      <th>Sex</th>\n",
       "      <th>Age</th>\n",
       "      <th>SibSp</th>\n",
       "      <th>Parch</th>\n",
       "      <th>Ticket</th>\n",
       "      <th>Fare</th>\n",
       "      <th>Cabin</th>\n",
       "      <th>Embarked</th>\n",
       "      <th>Age_group</th>\n",
       "      <th>Family</th>\n",
       "    </tr>\n",
       "  </thead>\n",
       "  <tbody>\n",
       "    <tr>\n",
       "      <th>0</th>\n",
       "      <td>1</td>\n",
       "      <td>0</td>\n",
       "      <td>3</td>\n",
       "      <td>Braund, Mr. Owen Harris</td>\n",
       "      <td>male</td>\n",
       "      <td>22.0</td>\n",
       "      <td>1</td>\n",
       "      <td>0</td>\n",
       "      <td>A/5 21171</td>\n",
       "      <td>7.2500</td>\n",
       "      <td>NaN</td>\n",
       "      <td>S</td>\n",
       "      <td>Adultos Jovens</td>\n",
       "      <td>1</td>\n",
       "    </tr>\n",
       "    <tr>\n",
       "      <th>1</th>\n",
       "      <td>2</td>\n",
       "      <td>1</td>\n",
       "      <td>1</td>\n",
       "      <td>Cumings, Mrs. John Bradley (Florence Briggs Th...</td>\n",
       "      <td>female</td>\n",
       "      <td>38.0</td>\n",
       "      <td>1</td>\n",
       "      <td>0</td>\n",
       "      <td>PC 17599</td>\n",
       "      <td>71.2833</td>\n",
       "      <td>C85</td>\n",
       "      <td>C</td>\n",
       "      <td>Adultos Jovens</td>\n",
       "      <td>1</td>\n",
       "    </tr>\n",
       "    <tr>\n",
       "      <th>2</th>\n",
       "      <td>3</td>\n",
       "      <td>1</td>\n",
       "      <td>3</td>\n",
       "      <td>Heikkinen, Miss. Laina</td>\n",
       "      <td>female</td>\n",
       "      <td>26.0</td>\n",
       "      <td>0</td>\n",
       "      <td>0</td>\n",
       "      <td>STON/O2. 3101282</td>\n",
       "      <td>7.9250</td>\n",
       "      <td>NaN</td>\n",
       "      <td>S</td>\n",
       "      <td>Adultos Jovens</td>\n",
       "      <td>0</td>\n",
       "    </tr>\n",
       "  </tbody>\n",
       "</table>\n",
       "</div>"
      ],
      "text/plain": [
       "   PassengerId  Survived  Pclass  \\\n",
       "0            1         0       3   \n",
       "1            2         1       1   \n",
       "2            3         1       3   \n",
       "\n",
       "                                                Name     Sex   Age  SibSp  \\\n",
       "0                            Braund, Mr. Owen Harris    male  22.0      1   \n",
       "1  Cumings, Mrs. John Bradley (Florence Briggs Th...  female  38.0      1   \n",
       "2                             Heikkinen, Miss. Laina  female  26.0      0   \n",
       "\n",
       "   Parch            Ticket     Fare Cabin Embarked       Age_group  Family  \n",
       "0      0         A/5 21171   7.2500   NaN        S  Adultos Jovens       1  \n",
       "1      0          PC 17599  71.2833   C85        C  Adultos Jovens       1  \n",
       "2      0  STON/O2. 3101282   7.9250   NaN        S  Adultos Jovens       0  "
      ]
     },
     "execution_count": 14,
     "metadata": {},
     "output_type": "execute_result"
    }
   ],
   "source": [
    "df['Family'] = 0\n",
    "df.loc[df['SibSp']+df['Parch'] > 0, 'Family'] = 1\n",
    "df.head(3)"
   ]
  },
  {
   "cell_type": "markdown",
   "metadata": {},
   "source": [
    "#### 5.2.3 Cabines"
   ]
  },
  {
   "cell_type": "markdown",
   "metadata": {},
   "source": [
    "Não há maiores informações sobre as cabines, por ora, vamos apenas admitir que os valores são conhecidos (known) ou desconhecidos (unknown)."
   ]
  },
  {
   "cell_type": "code",
   "execution_count": 15,
   "metadata": {},
   "outputs": [],
   "source": [
    "def k_or_u(value):\n",
    "    \"\"\"Avalia se o valor (value) em uma série é nulo. Caso seja, lhe será atribuído o valor \"Desconhecido\"('unknown'), \n",
    "       do contrário \"Conhecido\"('known').\"\"\"\n",
    "       \n",
    "    if pd.isnull(value):\n",
    "        return 'unknown'\n",
    "    else:\n",
    "        return 'known'"
   ]
  },
  {
   "cell_type": "code",
   "execution_count": 16,
   "metadata": {},
   "outputs": [
    {
     "data": {
      "text/html": [
       "<div>\n",
       "<style scoped>\n",
       "    .dataframe tbody tr th:only-of-type {\n",
       "        vertical-align: middle;\n",
       "    }\n",
       "\n",
       "    .dataframe tbody tr th {\n",
       "        vertical-align: top;\n",
       "    }\n",
       "\n",
       "    .dataframe thead th {\n",
       "        text-align: right;\n",
       "    }\n",
       "</style>\n",
       "<table border=\"1\" class=\"dataframe\">\n",
       "  <thead>\n",
       "    <tr style=\"text-align: right;\">\n",
       "      <th></th>\n",
       "      <th>PassengerId</th>\n",
       "      <th>Survived</th>\n",
       "      <th>Pclass</th>\n",
       "      <th>Name</th>\n",
       "      <th>Sex</th>\n",
       "      <th>Age</th>\n",
       "      <th>SibSp</th>\n",
       "      <th>Parch</th>\n",
       "      <th>Ticket</th>\n",
       "      <th>Fare</th>\n",
       "      <th>Cabin</th>\n",
       "      <th>Embarked</th>\n",
       "      <th>Age_group</th>\n",
       "      <th>Family</th>\n",
       "    </tr>\n",
       "  </thead>\n",
       "  <tbody>\n",
       "    <tr>\n",
       "      <th>0</th>\n",
       "      <td>1</td>\n",
       "      <td>0</td>\n",
       "      <td>3</td>\n",
       "      <td>Braund, Mr. Owen Harris</td>\n",
       "      <td>male</td>\n",
       "      <td>22.0</td>\n",
       "      <td>1</td>\n",
       "      <td>0</td>\n",
       "      <td>A/5 21171</td>\n",
       "      <td>7.2500</td>\n",
       "      <td>unknown</td>\n",
       "      <td>S</td>\n",
       "      <td>Adultos Jovens</td>\n",
       "      <td>1</td>\n",
       "    </tr>\n",
       "    <tr>\n",
       "      <th>1</th>\n",
       "      <td>2</td>\n",
       "      <td>1</td>\n",
       "      <td>1</td>\n",
       "      <td>Cumings, Mrs. John Bradley (Florence Briggs Th...</td>\n",
       "      <td>female</td>\n",
       "      <td>38.0</td>\n",
       "      <td>1</td>\n",
       "      <td>0</td>\n",
       "      <td>PC 17599</td>\n",
       "      <td>71.2833</td>\n",
       "      <td>known</td>\n",
       "      <td>C</td>\n",
       "      <td>Adultos Jovens</td>\n",
       "      <td>1</td>\n",
       "    </tr>\n",
       "  </tbody>\n",
       "</table>\n",
       "</div>"
      ],
      "text/plain": [
       "   PassengerId  Survived  Pclass  \\\n",
       "0            1         0       3   \n",
       "1            2         1       1   \n",
       "\n",
       "                                                Name     Sex   Age  SibSp  \\\n",
       "0                            Braund, Mr. Owen Harris    male  22.0      1   \n",
       "1  Cumings, Mrs. John Bradley (Florence Briggs Th...  female  38.0      1   \n",
       "\n",
       "   Parch     Ticket     Fare    Cabin Embarked       Age_group  Family  \n",
       "0      0  A/5 21171   7.2500  unknown        S  Adultos Jovens       1  \n",
       "1      0   PC 17599  71.2833    known        C  Adultos Jovens       1  "
      ]
     },
     "execution_count": 16,
     "metadata": {},
     "output_type": "execute_result"
    }
   ],
   "source": [
    "df['Cabin'] = df['Cabin'].apply(k_or_u)\n",
    "df.head(2)"
   ]
  },
  {
   "cell_type": "markdown",
   "metadata": {},
   "source": [
    "#### 5.2.4 Local de Embarque\n",
    "\n",
    "Apenas dois passageiros não tiveram seus locais de embarque informados. São eles:"
   ]
  },
  {
   "cell_type": "code",
   "execution_count": 17,
   "metadata": {},
   "outputs": [
    {
     "data": {
      "text/html": [
       "<div>\n",
       "<style scoped>\n",
       "    .dataframe tbody tr th:only-of-type {\n",
       "        vertical-align: middle;\n",
       "    }\n",
       "\n",
       "    .dataframe tbody tr th {\n",
       "        vertical-align: top;\n",
       "    }\n",
       "\n",
       "    .dataframe thead th {\n",
       "        text-align: right;\n",
       "    }\n",
       "</style>\n",
       "<table border=\"1\" class=\"dataframe\">\n",
       "  <thead>\n",
       "    <tr style=\"text-align: right;\">\n",
       "      <th></th>\n",
       "      <th>PassengerId</th>\n",
       "      <th>Survived</th>\n",
       "      <th>Pclass</th>\n",
       "      <th>Name</th>\n",
       "      <th>Sex</th>\n",
       "      <th>Age</th>\n",
       "      <th>SibSp</th>\n",
       "      <th>Parch</th>\n",
       "      <th>Ticket</th>\n",
       "      <th>Fare</th>\n",
       "      <th>Cabin</th>\n",
       "      <th>Embarked</th>\n",
       "      <th>Age_group</th>\n",
       "      <th>Family</th>\n",
       "    </tr>\n",
       "  </thead>\n",
       "  <tbody>\n",
       "    <tr>\n",
       "      <th>61</th>\n",
       "      <td>62</td>\n",
       "      <td>1</td>\n",
       "      <td>1</td>\n",
       "      <td>Icard, Miss. Amelie</td>\n",
       "      <td>female</td>\n",
       "      <td>38.0</td>\n",
       "      <td>0</td>\n",
       "      <td>0</td>\n",
       "      <td>113572</td>\n",
       "      <td>80.0</td>\n",
       "      <td>known</td>\n",
       "      <td>NaN</td>\n",
       "      <td>Adultos Jovens</td>\n",
       "      <td>0</td>\n",
       "    </tr>\n",
       "    <tr>\n",
       "      <th>829</th>\n",
       "      <td>830</td>\n",
       "      <td>1</td>\n",
       "      <td>1</td>\n",
       "      <td>Stone, Mrs. George Nelson (Martha Evelyn)</td>\n",
       "      <td>female</td>\n",
       "      <td>62.0</td>\n",
       "      <td>0</td>\n",
       "      <td>0</td>\n",
       "      <td>113572</td>\n",
       "      <td>80.0</td>\n",
       "      <td>known</td>\n",
       "      <td>NaN</td>\n",
       "      <td>Idosos</td>\n",
       "      <td>0</td>\n",
       "    </tr>\n",
       "  </tbody>\n",
       "</table>\n",
       "</div>"
      ],
      "text/plain": [
       "     PassengerId  Survived  Pclass                                       Name  \\\n",
       "61            62         1       1                        Icard, Miss. Amelie   \n",
       "829          830         1       1  Stone, Mrs. George Nelson (Martha Evelyn)   \n",
       "\n",
       "        Sex   Age  SibSp  Parch  Ticket  Fare  Cabin Embarked       Age_group  \\\n",
       "61   female  38.0      0      0  113572  80.0  known      NaN  Adultos Jovens   \n",
       "829  female  62.0      0      0  113572  80.0  known      NaN          Idosos   \n",
       "\n",
       "     Family  \n",
       "61        0  \n",
       "829       0  "
      ]
     },
     "execution_count": 17,
     "metadata": {},
     "output_type": "execute_result"
    }
   ],
   "source": [
    "df[df['Embarked'].isnull()]"
   ]
  },
  {
   "cell_type": "markdown",
   "metadata": {},
   "source": [
    "Como a maioria dos passageiros embarcou em Southampton."
   ]
  },
  {
   "cell_type": "code",
   "execution_count": 18,
   "metadata": {},
   "outputs": [
    {
     "data": {
      "text/plain": [
       "Embarked\n",
       "C    168\n",
       "Q     77\n",
       "S    644\n",
       "Name: PassengerId, dtype: int64"
      ]
     },
     "execution_count": 18,
     "metadata": {},
     "output_type": "execute_result"
    }
   ],
   "source": [
    "df.groupby('Embarked')['PassengerId'].count()"
   ]
  },
  {
   "cell_type": "markdown",
   "metadata": {},
   "source": [
    "Suporemos que nossas duas passageiras também embarcaram lá."
   ]
  },
  {
   "cell_type": "code",
   "execution_count": 19,
   "metadata": {},
   "outputs": [],
   "source": [
    "df['Embarked'] = df['Embarked'].fillna('S')"
   ]
  },
  {
   "cell_type": "markdown",
   "metadata": {},
   "source": [
    "Checando novamente os dados. Não possuímos mais _missing datas_."
   ]
  },
  {
   "cell_type": "code",
   "execution_count": 20,
   "metadata": {},
   "outputs": [
    {
     "data": {
      "text/plain": [
       "PassengerId    0\n",
       "Survived       0\n",
       "Pclass         0\n",
       "Name           0\n",
       "Sex            0\n",
       "Age            0\n",
       "SibSp          0\n",
       "Parch          0\n",
       "Ticket         0\n",
       "Fare           0\n",
       "Cabin          0\n",
       "Embarked       0\n",
       "Age_group      0\n",
       "Family         0\n",
       "dtype: int64"
      ]
     },
     "execution_count": 20,
     "metadata": {},
     "output_type": "execute_result"
    }
   ],
   "source": [
    "df.isna().sum()"
   ]
  },
  {
   "cell_type": "markdown",
   "metadata": {},
   "source": [
    "## 6. Explorando Informações"
   ]
  },
  {
   "cell_type": "markdown",
   "metadata": {},
   "source": [
    "Nesta sessão, ilustraremos as proporções percentuais de náufragos agrupadas pelas categorias discriminadas na seção 2 para ver como elas influenciaram no número de sobreviventes."
   ]
  },
  {
   "cell_type": "markdown",
   "metadata": {},
   "source": [
    "### 6.1 Proporções percentuais agrupadas por Categoria"
   ]
  },
  {
   "cell_type": "code",
   "execution_count": 21,
   "metadata": {},
   "outputs": [],
   "source": [
    "# Uma expressão para cálculo de porcentagens\n",
    "percent = lambda par,tot: (par/tot)*100"
   ]
  },
  {
   "cell_type": "code",
   "execution_count": 22,
   "metadata": {},
   "outputs": [],
   "source": [
    "# Definindo uma função para criação de barras aninhadas\n",
    "def survivors_stacked_bars(cat, x_label='', pos_subplot=0, leg=False):\n",
    "    \"\"\"Plota gráfico de barras aninhadas com os percentuais proporcionais dos passageiros Sobreviventes/Mortos \n",
    "       agrupados pela categoria(cat) desejada. Caso for desejado, é possível alterar o rótulo do eixo x (x_label),\n",
    "       definir a posição de subplot(pos_subplot) e se a legenda será impressa(leg).\"\"\"\n",
    "    # Contagem de passageiros por categoria\n",
    "    totals = df.groupby(cat)['PassengerId'].count()\n",
    "    # Contagem de sobreviventes por categoria\n",
    "    counts = df.groupby([cat,'Survived'])['PassengerId'].count()\n",
    "    # Percentual agrupado por categoria\n",
    "    perc = percent(counts,totals)\n",
    "    perc_dead = perc[:,0] # Percentuais de mortos por sexo\n",
    "    perc_alive =  perc[:,1] # Percentuais de sobreviventes por sexo\n",
    "    # Criando barras aninhadas\n",
    "    cat_keys = perc_dead.keys().astype('str') # x-axis labels\n",
    "    plt.subplot(3,3,pos_subplot)\n",
    "    plt.bar(cat_keys, perc_alive, bottom=perc_dead, color='skyblue', edgecolor='white', width=.65, alpha=.8, label='Sobreviventes');\n",
    "    plt.bar(cat_keys, perc_dead, color='pink', edgecolor='white', width=.65, alpha=.8, label='Mortos')\n",
    "    plt.xlabel(x_label, fontsize=15)\n",
    "    plt.xticks(fontsize=11)\n",
    "    plt.yticks(fontsize=11)\n",
    "    plt.grid(axis='x')\n",
    "    if leg == True:\n",
    "        plt.legend(loc='upper left', bbox_to_anchor=(1,1), ncol=1)\n",
    "        \n",
    "    return"
   ]
  },
  {
   "cell_type": "code",
   "execution_count": 23,
   "metadata": {},
   "outputs": [
    {
     "data": {
      "image/png": "[encoded data removed]",
      "text/plain": [
       "<Figure size 1512x864 with 7 Axes>"
      ]
     },
     "metadata": {},
     "output_type": "display_data"
    }
   ],
   "source": [
    "# Criando janelas gráficas\n",
    "plt.subplots(3,3, figsize=(21,12)) \n",
    "\n",
    "# Subplot 1 - Náufragos\n",
    "plt.subplot(1,3,1)\n",
    "status = str()\n",
    "counts_status = df['Survived'].value_counts()\n",
    "total_status = df['Survived'].count()\n",
    "perc_status = percent(counts_status,total_status)\n",
    "perc_dead_status = perc_status[0]\n",
    "perc_alive_status = perc_status[1]\n",
    "plt.bar(status, perc_alive_status, bottom=perc_dead_status, color='skyblue', edgecolor='white', alpha=.8, width=.5, label='Sobreviventes') # Criação de barras\n",
    "plt.bar(status, perc_dead_status, color='pink', edgecolor='white', alpha=.8, width=.5, label='Mortos') # Criação de barras\n",
    "plt.ylabel('Porcentagem (%)', fontsize=20)\n",
    "plt.xlabel('Náufragos', fontsize=15)\n",
    "plt.xticks(fontsize=15);\n",
    "plt.yticks(fontsize=15)\n",
    "plt.ylim(0,100)\n",
    "plt.grid(axis='x')\n",
    "plt.legend(loc='center', bbox_to_anchor=(-.25,.025), ncol=1, fontsize=15)\n",
    "\n",
    "# Demais subplots\n",
    "survivors_stacked_bars('Sex', 'Sexo',2)\n",
    "survivors_stacked_bars('Pclass', 'Classe Socioeconômica',3)\n",
    "survivors_stacked_bars('Age_group', 'Faixa Etária',5)\n",
    "survivors_stacked_bars('Embarked', 'Local de Embarque',6)\n",
    "survivors_stacked_bars('Family', 'Familiar',8)\n",
    "survivors_stacked_bars('Cabin', 'Cabine',9)\n",
    "\n",
    "plt.show()"
   ]
  },
  {
   "cell_type": "markdown",
   "metadata": {},
   "source": [
    "## 7. Formulando Conclusões"
   ]
  },
  {
   "cell_type": "markdown",
   "metadata": {},
   "source": [
    "Mais de 60% dos náufragos do Titanic não sobreviveram à tragédia. Os dados sugerem que a política de ocupação dos botes salva-vidas foi a de \"mulheres e crianças primeiro\", mostrando que mais de 80% dos homens faleceram e que quanto mais idosos eram os náufragos maior a ocorrência de óbitos. \n",
    "\n",
    "A classe socioeconômica dos passageiros também mostrou-se importante, indicando que passageiros das classes mais ricas foram mais beneficiados. É possível que isto tenha explicação no fato dos mesmos terem se hospedado nos decks superiores da embarcação, em cabines, localizados próximos dos botes de segurança. Muitos passageiros viajaram em alojamentos nos decks mais inferiores, que além de estarem longe dos botes, ainda tinham o acesso aos conveses superiores bloqueados, para evitar o contato das classes mais pobres com as ricas. Este site mostra excelentes plantas do navio: (https://www.encyclopedia-titanica.org/titanic-deckplans/).\n",
    "\n",
    "O local de embarque também parece ter influenciado na sobrevivência. Passageiros embarcados em Cherbourg apresentaram 20% menos incidência de vítimas fatais que os demais.\n",
    "\n",
    "Estar acompando de pelo menos um familiar também conferia uma vantagem de sobreviver frente aos que não estavam."
   ]
  },
  {
   "cell_type": "markdown",
   "metadata": {},
   "source": [
    "## 8 Considerações Finais"
   ]
  },
  {
   "cell_type": "markdown",
   "metadata": {},
   "source": [
    "Embora tenha sido possível extrair boas informações com esta base de dados, os parâmetros idade e cabine apresentaram muitos _missing datas_ colocando em dúvida a confiabilidade dos mesmos, principalmente este último.\n",
    "\n",
    "Para estudos futuros seria interessante investigar mais a fundo os dados referentes às cabines conhecidas e ver como seu posicionamento nos diferentes decks impactou na sobrevivência dos náufragos. \n",
    "\n",
    "As variáveis \"Preço do Ticket (Fare)\" e \"Código do Ticket (Ticket)\" ficaram fora do escopo deste relatório, porém, durante o processo de _Data Wrangling_ foram encontrados alguns padrões. Como a grande discrepância de poderes aquisitivos e 210 passageiros diferentes viajando com o mesmo ticket.\n"
   ]
  },
  {
   "cell_type": "code",
   "execution_count": 24,
   "metadata": {},
   "outputs": [
    {
     "data": {
      "image/png": "[encoded data removed]",
      "text/plain": [
       "<Figure size 144x576 with 1 Axes>"
      ]
     },
     "metadata": {},
     "output_type": "display_data"
    }
   ],
   "source": [
    "df['Fare'].plot(kind='box', figsize=(2,8)); # Boxplot da distribuição do valor pago por ticket\n",
    "plt.grid()"
   ]
  },
  {
   "cell_type": "code",
   "execution_count": 25,
   "metadata": {},
   "outputs": [
    {
     "data": {
      "text/plain": [
       "False    681\n",
       "True     210\n",
       "Name: Ticket, dtype: int64"
      ]
     },
     "execution_count": 25,
     "metadata": {},
     "output_type": "execute_result"
    }
   ],
   "source": [
    "df['Ticket'].duplicated().value_counts() # Contagem de ticket duplicados"
   ]
  },
  {
   "cell_type": "markdown",
   "metadata": {},
   "source": [
    "O estudo desta base de dados do naufrágio do Titanic é muito difundido na comunidade de Data Science. Existem diversas abordagens propostas por esta. Este breve relatório definitivamente não esgosta esta investigação."
   ]
  },
  {
   "cell_type": "markdown",
   "metadata": {},
   "source": [
    "## 9. Referências"
   ]
  },
  {
   "cell_type": "markdown",
   "metadata": {},
   "source": [
    "### 9.1 Sites\n",
    "* https://github.com/strod/Hello-World/blob/master/Titanic%20Survivors.ipynb\n",
    "* https://pt.wikipedia.org/wiki/Naufr%C3%A1gio_do_RMS_Titanic\n",
    "* https://seaborn.pydata.org/tutorial.html\n",
    "* https://www.python.org/dev/peps/pep-0257/\n",
    "* https://www.kaggle.com/arthurtok/introduction-to-ensembling-stacking-in-python\n",
    "* https://br.udacity.com/\n",
    "* https://python-graph-gallery.com/125-small-multiples-for-line-chart/\n",
    "* https://matplotlib.org/tutorials/index.html\n",
    "\n",
    "### 9.2 Livros\n",
    "* MCKINNEY, Wes. __Python for Data Analysis: Data Wrangling with Pandas, Numpy and IPython__. 2. ed. EUA: O'Reilly, 2017. 526 p.\n",
    "* MILTON, Michael. __Use a Cabeça! Análise de Dados__. 1. ed. [S.l.]: Alta Books, 2010. 440 p."
   ]
  }
 ],
 "metadata": {
  "kernelspec": {
   "display_name": "Python 3",
   "language": "python",
   "name": "python3"
  },
  "language_info": {
   "codemirror_mode": {
    "name": "ipython",
    "version": 3
   },
   "file_extension": ".py",
   "mimetype": "text/x-python",
   "name": "python",
   "nbconvert_exporter": "python",
   "pygments_lexer": "ipython3",
   "version": "3.6.5"
  }
 },
 "nbformat": 4,
 "nbformat_minor": 2
}
